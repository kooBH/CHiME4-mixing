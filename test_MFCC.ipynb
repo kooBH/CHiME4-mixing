{
 "cells": [
  {
   "cell_type": "code",
   "execution_count": 1,
   "id": "5ccecbcf-a019-4986-9529-e6f7aa57c475",
   "metadata": {},
   "outputs": [],
   "source": [
    "import os, glob"
   ]
  },
  {
   "cell_type": "code",
   "execution_count": null,
   "id": "58361d6a-13ec-439a-ab83-19015f672e3e",
   "metadata": {},
   "outputs": [],
   "source": [
    "root = /home/data/kbh/CHiME4/"
   ]
  }
 ],
 "metadata": {
  "kernelspec": {
   "display_name": "Python 3",
   "language": "python",
   "name": "python3"
  },
  "language_info": {
   "codemirror_mode": {
    "name": "ipython",
    "version": 3
   },
   "file_extension": ".py",
   "mimetype": "text/x-python",
   "name": "python",
   "nbconvert_exporter": "python",
   "pygments_lexer": "ipython3",
   "version": "3.8.0"
  }
 },
 "nbformat": 4,
 "nbformat_minor": 5
}
