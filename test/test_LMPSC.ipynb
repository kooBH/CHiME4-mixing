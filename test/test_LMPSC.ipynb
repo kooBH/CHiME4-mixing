{
 "cells": [
  {
   "cell_type": "code",
   "execution_count": 6,
   "id": "825caa08-5b27-451a-9d24-1af66a288856",
   "metadata": {},
   "outputs": [],
   "source": [
    "noisy_path = 'data/noisy.wav'\n",
    "estim_path = '../data/estim.wav'\n",
    "noise_path = '../data/noise.wav'\n",
    "clean_path = '../data/clean.wav'"
   ]
  },
  {
   "cell_type": "code",
   "execution_count": 14,
   "id": "4cbec228-19b0-4982-83b6-c6fe338fe4b0",
   "metadata": {},
   "outputs": [],
   "source": [
    "import librosa\n",
    "import numpy as np\n",
    "import torch\n",
    "import soundfile as sf"
   ]
  },
  {
   "cell_type": "markdown",
   "id": "ded330f0-3461-4dfa-9b42-f6a13500bb85",
   "metadata": {},
   "source": [
    "## LOAD"
   ]
  },
  {
   "cell_type": "code",
   "execution_count": 23,
   "id": "4dab9df9-5bbd-40bc-905a-7872875b86d7",
   "metadata": {},
   "outputs": [
    {
     "data": {
      "text/plain": [
       "'/home/nas/user/kbh/workspace/CHiME4-mixing'"
      ]
     },
     "execution_count": 23,
     "metadata": {},
     "output_type": "execute_result"
    }
   ],
   "source": [
    "pwd"
   ]
  },
  {
   "cell_type": "code",
   "execution_count": 8,
   "id": "365d6740-c598-44a0-b645-01f90a150f3d",
   "metadata": {},
   "outputs": [
    {
     "name": "stdout",
     "output_type": "stream",
     "text": [
      "(100578,)\n"
     ]
    }
   ],
   "source": [
    "noisy, sr = librosa.load(noisy_path,sr=16000)\n",
    "print(np.shape(noisy))"
   ]
  },
  {
   "cell_type": "markdown",
   "id": "963e106e-06e0-4e19-90a3-273064a36ceb",
   "metadata": {},
   "source": [
    "## Mel"
   ]
  },
  {
   "cell_type": "code",
   "execution_count": 19,
   "id": "bfa8908b-6e4a-4b22-a2dc-b313c21f1b8a",
   "metadata": {},
   "outputs": [
    {
     "name": "stdout",
     "output_type": "stream",
     "text": [
      "(40, 195)\n"
     ]
    }
   ],
   "source": [
    "noisy_mel = librosa.feature.melspectrogram(noisy,sr=sr,n_fft=1024,center=False,n_mels=40)\n",
    "print(np.shape(noisy_mel))"
   ]
  },
  {
   "cell_type": "markdown",
   "id": "05feab18-1727-4ae3-a4b1-212c283437fe",
   "metadata": {},
   "source": [
    "## Mel -> wav"
   ]
  },
  {
   "cell_type": "code",
   "execution_count": 20,
   "id": "21d8e375-624e-4deb-9548-09f8f92ab5c0",
   "metadata": {},
   "outputs": [
    {
     "name": "stdout",
     "output_type": "stream",
     "text": [
      "(100352,)\n"
     ]
    }
   ],
   "source": [
    "noisy_inv = librosa.feature.inverse.mel_to_audio(noisy_mel,sr=sr,n_fft=1024,center=False)\n",
    "print(np.shape(noisy_inv))\n"
   ]
  },
  {
   "cell_type": "code",
   "execution_count": 21,
   "id": "327d490d-7a57-47e3-9827-57ee930203ec",
   "metadata": {},
   "outputs": [],
   "source": [
    "sf.write('data/inv_noisy.wav',noisy_inv,16000)"
   ]
  },
  {
   "cell_type": "markdown",
   "id": "152b0e27-52e3-40f0-b97c-4d842f86e719",
   "metadata": {},
   "source": [
    "## Comparison"
   ]
  },
  {
   "cell_type": "code",
   "execution_count": 12,
   "id": "938aaf28-bf43-4829-82bb-669f5132e9fa",
   "metadata": {},
   "outputs": [
    {
     "data": {
      "text/plain": [
       "226"
      ]
     },
     "execution_count": 12,
     "metadata": {},
     "output_type": "execute_result"
    }
   ],
   "source": [
    "100578 - 100352"
   ]
  },
  {
   "cell_type": "code",
   "execution_count": null,
   "id": "6a285cd2-f93d-4000-b2bb-894718f24ea4",
   "metadata": {},
   "outputs": [],
   "source": []
  }
 ],
 "metadata": {
  "kernelspec": {
   "display_name": "Python 3",
   "language": "python",
   "name": "python3"
  },
  "language_info": {
   "codemirror_mode": {
    "name": "ipython",
    "version": 3
   },
   "file_extension": ".py",
   "mimetype": "text/x-python",
   "name": "python",
   "nbconvert_exporter": "python",
   "pygments_lexer": "ipython3",
   "version": "3.8.0"
  }
 },
 "nbformat": 4,
 "nbformat_minor": 5
}
