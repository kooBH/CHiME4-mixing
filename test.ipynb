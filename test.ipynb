{
 "cells": [
  {
   "cell_type": "code",
   "execution_count": 7,
   "id": "athletic-squad",
   "metadata": {},
   "outputs": [],
   "source": [
    "import numpy as np\n",
    "import librosa\n",
    "import soundfile as sf\n",
    "# Due to 'PySoundFile failed. Trying audioread instead' \n",
    "import warnings\n",
    "warnings.filterwarnings('ignore')"
   ]
  },
  {
   "cell_type": "code",
   "execution_count": 8,
   "id": "political-rotation",
   "metadata": {},
   "outputs": [],
   "source": [
    "root_path = '/home/nas/DB/CHiME4/data/audio/16kHz/'\n",
    "category = ['dt05_bus_simu','dt05_caf_simu','dt05_ped_simu','dt05_str_simu','et05_bus_simu','dt05_caf_simu','et05_ped_simu','et05_str_simu','tr05_bus_simu','tr05_caf_simu','tr05_ped_simu','tr05_str_simu']\n",
    "clean_path = 'isolated/tr05_bth/F02_01DC0204_BTH.CH1.wav'\n",
    "noise_path = 'backgrounds/BGD_150203_010_PED.CH1.wav'"
   ]
  },
  {
   "cell_type": "code",
   "execution_count": 19,
   "id": "adjustable-vault",
   "metadata": {},
   "outputs": [],
   "source": [
    "clean,fs = librosa.load(root_path+clean_path,sr=16000)\n",
    "noise,fs = librosa.load(root_path+noise_path,sr=16000)"
   ]
  },
  {
   "cell_type": "code",
   "execution_count": 21,
   "id": "nominated-lover",
   "metadata": {},
   "outputs": [
    {
     "name": "stdout",
     "output_type": "stream",
     "text": [
      "<class 'numpy.ndarray'>\n",
      "(66430,)\n",
      "29013888\n"
     ]
    }
   ],
   "source": [
    "print(type(clean))\n",
    "print(np.shape(clean))\n",
    "print(np.size(noise))"
   ]
  },
  {
   "cell_type": "code",
   "execution_count": 23,
   "id": "sharing-contributor",
   "metadata": {},
   "outputs": [],
   "source": [
    "clean_path_pre = 'isolated/tr05_bth/F02_01DC0204_BTH.'\n",
    "clean_path_post = '.wav'"
   ]
  },
  {
   "cell_type": "code",
   "execution_count": 47,
   "id": "liked-declaration",
   "metadata": {},
   "outputs": [
    {
     "name": "stdout",
     "output_type": "stream",
     "text": [
      "(66430, 1)\n",
      "(66430, 1)\n",
      "(66430, 2)\n",
      "(66430, 1)\n",
      "(66430, 3)\n",
      "(66430, 1)\n",
      "(66430, 4)\n",
      "(66430, 1)\n",
      "(66430, 5)\n",
      "(66430, 1)\n"
     ]
    }
   ],
   "source": [
    "clean,fs = librosa.load(root_path+clean_path_pre+'CH1'+clean_path_post,sr=16000)\n",
    "clean = np.expand_dims(clean,axis=-1)\n",
    "for str_ch in ['CH2','CH3','CH4','CH5','CH6'] : \n",
    "    tmp_clean,fs = librosa.load(root_path+clean_path_pre+str_ch+clean_path_post,sr=16000)\n",
    "    tmp_clean = np.expand_dims(tmp_clean,axis=-1)\n",
    "    print(np.shape(clean))\n",
    "    print(np.shape(tmp_clean))\n",
    "    clean = np.concatenate([clean,tmp_clean],axis=1)\n"
   ]
  },
  {
   "cell_type": "code",
   "execution_count": 48,
   "id": "future-intro",
   "metadata": {},
   "outputs": [
    {
     "data": {
      "text/plain": [
       "66430"
      ]
     },
     "execution_count": 48,
     "metadata": {},
     "output_type": "execute_result"
    }
   ],
   "source": [
    "len(clean)"
   ]
  },
  {
   "cell_type": "code",
   "execution_count": null,
   "id": "changing-hunger",
   "metadata": {},
   "outputs": [],
   "source": []
  }
 ],
 "metadata": {
  "kernelspec": {
   "display_name": "Python 3",
   "language": "python",
   "name": "python3"
  },
  "language_info": {
   "codemirror_mode": {
    "name": "ipython",
    "version": 3
   },
   "file_extension": ".py",
   "mimetype": "text/x-python",
   "name": "python",
   "nbconvert_exporter": "python",
   "pygments_lexer": "ipython3",
   "version": "3.8.0"
  }
 },
 "nbformat": 4,
 "nbformat_minor": 5
}
