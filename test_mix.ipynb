{
 "cells": [
  {
   "cell_type": "code",
   "execution_count": 5,
   "id": "cathedral-finger",
   "metadata": {},
   "outputs": [],
   "source": [
    "import numpy as np\n",
    "import os,glob\n",
    "\n",
    "import librosa\n",
    "import soundfile as sf\n",
    "from tqdm import tqdm\n",
    "from multiprocessing import Pool, cpu_count\n",
    "# Due to 'PySoundFile failed. Trying audioread instead' \n",
    "import warnings\n",
    "warnings.filterwarnings('ignore')\n",
    "\n",
    "root_path = '/home/data/kbh/CHiME4/merged_WAV/'\n",
    "out_root = '/home/data/kbh/CHiME4/merged_WAV/'\n",
    "\n",
    "list_clean = [x for x in glob.glob(os.path.join(root_path,'clean','*.wav'))]\n",
    "# /home/nas/DB/CHiME4/data/audio/16kHz/backgrounds/BGD_150203_010_PED.CH1.wav'\n",
    "list_noise = [x for x in glob.glob(os.path.join(root_path,'noise','*.wav'))]\n",
    "num_noise = len(list_noise)"
   ]
  },
  {
   "cell_type": "code",
   "execution_count": 6,
   "id": "drawn-probe",
   "metadata": {},
   "outputs": [],
   "source": [
    "def setSNR(clean,noise,SNR=0,normalized=False):\n",
    "    if not normalized : \n",
    "        clean = clean/np.max(np.abs(clean))\n",
    "        noise = noise/np.max(np.abs(noise))\n",
    "\n",
    "    mean_energy_clean = np.sum(np.power(clean,2))\n",
    "    mean_energy_noise = np.sum(np.power(noise,2))\n",
    "    energy_normal = np.sqrt(mean_energy_clean)/np.sqrt(mean_energy_noise)\n",
    "    SNR_weight = energy_normal/np.sqrt(np.power(10,SNR/10))\n",
    "\n",
    "    if SNR >= 0 :\n",
    "        # decrease erergy of noise\n",
    "        noise = noise*SNR_weight\n",
    "    else :\n",
    "        # decrease erergy of clean\n",
    "        clean = clean / SNR_weight\n",
    "    \n",
    "    return clean, noise"
   ]
  },
  {
   "cell_type": "code",
   "execution_count": 27,
   "id": "smart-lottery",
   "metadata": {},
   "outputs": [],
   "source": [
    "def mix(idx):\n",
    "    # load\n",
    "    path_clean = list_clean[idx]\n",
    "    id = path_clean.split('/')[-1]\n",
    "    id = id.split('.')[0]\n",
    "\n",
    "    clean,_ = librosa.load(path_clean,mono=False,sr=16000)\n",
    "\n",
    "    # sampling\n",
    "    len_clean = np.shape(clean)[1]\n",
    "    print(len_clean)\n",
    "    # mixing for SNRs\n",
    "    for SNR in [-5, 0, 5, 10] :\n",
    "        idx_noise = np.random.randint(num_noise)\n",
    "        print(list_noise[idx_noise])\n",
    "        noise,_ = librosa.load(list_noise[idx_noise],mono=False,sr=16000)\n",
    "        print(np.shape(noise))\n",
    "        interval_noise = np.random.randint(np.shape(noise)[1]-len_clean)\n",
    "        sampled_noise = noise[:,interval_noise:interval_noise+len_clean]\n",
    "        clean2,noise2 = setSNR(clean,sampled_noise,SNR)\n",
    "        noisy = clean2+noise2\n",
    "        normalization_ratio = np.max(np.abs(noisy))\n",
    "        noisy = noisy/normalization_ratio\n",
    "        clean2= clean2/normalization_ratio\n",
    "        noise2= noise2/normalization_ratio\n",
    "        \n",
    "        # saving in (frames,channels)\n",
    "            \n",
    "        noisy = noisy.swapaxes(1,0)\n",
    "        clean2 = clean2.swapaxes(1,0)\n",
    "        noise2 = noise2.swapaxes(1,0)\n",
    "\n",
    "        sf.write(os.path.join(out_root,'SNR'+str(SNR),'clean',id+'.wav'),clean2,16000)\n",
    "        sf.write(os.path.join(out_root,'SNR'+str(SNR),'noise',id+'.wav'),noise2,16000)\n",
    "        sf.write(os.path.join(out_root,'SNR'+str(SNR),'noisy',id+'.wav'),noisy,16000)"
   ]
  },
  {
   "cell_type": "code",
   "execution_count": 28,
   "id": "enormous-cameroon",
   "metadata": {},
   "outputs": [
    {
     "name": "stdout",
     "output_type": "stream",
     "text": [
      "100547\n",
      "/home/data/kbh/CHiME4/merged_WAV/noise/BGD_150204_020_BUS_merged.wav\n",
      "(6, 30869760)\n",
      "/home/data/kbh/CHiME4/merged_WAV/noise/BGD_150211_020_STR_merged.wav\n",
      "(6, 29716608)\n",
      "/home/data/kbh/CHiME4/merged_WAV/noise/BGD_150212_040_STR_merged.wav\n",
      "(6, 19569024)\n",
      "/home/data/kbh/CHiME4/merged_WAV/noise/BGD_150211_030_STR_merged.wav\n",
      "(6, 25451904)\n"
     ]
    }
   ],
   "source": [
    "for SNR in ['SNR-10','SNR-5','SNR0','SNR5','SNR10']:\n",
    "    os.makedirs(os.path.join(out_root,SNR),exist_ok=True)\n",
    "    for category in ['clean','noise','noisy'] :\n",
    "        os.makedirs(os.path.join(out_root,SNR,category),exist_ok=True)\n",
    "\n",
    "num_cpu = cpu_count()\n",
    "\n",
    "mix(0)"
   ]
  },
  {
   "cell_type": "code",
   "execution_count": null,
   "id": "confused-grocery",
   "metadata": {},
   "outputs": [],
   "source": []
  }
 ],
 "metadata": {
  "kernelspec": {
   "display_name": "Python 3",
   "language": "python",
   "name": "python3"
  },
  "language_info": {
   "codemirror_mode": {
    "name": "ipython",
    "version": 3
   },
   "file_extension": ".py",
   "mimetype": "text/x-python",
   "name": "python",
   "nbconvert_exporter": "python",
   "pygments_lexer": "ipython3",
   "version": "3.8.0"
  }
 },
 "nbformat": 4,
 "nbformat_minor": 5
}
