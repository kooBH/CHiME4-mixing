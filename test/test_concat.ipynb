{
 "cells": [
  {
   "cell_type": "code",
   "execution_count": 1,
   "id": "athletic-squad",
   "metadata": {},
   "outputs": [],
   "source": [
    "import numpy as np\n",
    "import librosa\n",
    "import soundfile as sf\n",
    "# Due to 'PySoundFile failed. Trying audioread instead' \n",
    "import warnings\n",
    "warnings.filterwarnings('ignore')"
   ]
  },
  {
   "cell_type": "code",
   "execution_count": 53,
   "id": "political-rotation",
   "metadata": {},
   "outputs": [],
   "source": [
    "root_path = '/home/nas/DB/CHiME4/data/audio/16kHz/'\n",
    "category = ['dt05_bus_simu','dt05_caf_simu','dt05_ped_simu','dt05_str_simu','et05_bus_simu','dt05_caf_simu','et05_ped_simu','et05_str_simu','tr05_bus_simu','tr05_caf_simu','tr05_ped_simu','tr05_str_simu']\n",
    "clean_path = 'isolated/tr05_bth/F02_01DC0204_BTH.CH1.wav'\n",
    "noise_path = 'backgrounds/BGD_150203_010_PED.CH1.wav'"
   ]
  },
  {
   "cell_type": "code",
   "execution_count": 54,
   "id": "adjustable-vault",
   "metadata": {},
   "outputs": [],
   "source": [
    "clean,fs = librosa.load(root_path+clean_path,sr=16000)\n",
    "noise,fs = librosa.load(root_path+noise_path,sr=16000)"
   ]
  },
  {
   "cell_type": "code",
   "execution_count": 55,
   "id": "structural-corner",
   "metadata": {},
   "outputs": [
    {
     "name": "stdout",
     "output_type": "stream",
     "text": [
      "<class 'numpy.ndarray'>\n",
      "(66430,)\n",
      "29013888\n"
     ]
    }
   ],
   "source": [
    "print(type(clean))\n",
    "print(np.shape(clean))\n",
    "print(np.size(noise))"
   ]
  },
  {
   "cell_type": "code",
   "execution_count": 56,
   "id": "acquired-runner",
   "metadata": {},
   "outputs": [],
   "source": [
    "clean_path_pre = 'isolated/tr05_bth/F02_01DC0204_BTH.'\n",
    "clean_path_post = '.wav'"
   ]
  },
  {
   "cell_type": "code",
   "execution_count": 57,
   "id": "expected-voluntary",
   "metadata": {},
   "outputs": [
    {
     "name": "stdout",
     "output_type": "stream",
     "text": [
      "(66430, 1)\n",
      "(66430, 1)\n",
      "(66430, 2)\n",
      "(66430, 1)\n",
      "(66430, 3)\n",
      "(66430, 1)\n",
      "(66430, 4)\n",
      "(66430, 1)\n",
      "(66430, 5)\n",
      "(66430, 1)\n"
     ]
    }
   ],
   "source": [
    "clean,fs = librosa.load(root_path+clean_path_pre+'CH1'+clean_path_post,sr=16000)\n",
    "clean = np.expand_dims(clean,axis=1)\n",
    "for str_ch in ['CH2','CH3','CH4','CH5','CH6'] : \n",
    "    tmp_clean,fs = librosa.load(root_path+clean_path_pre+str_ch+clean_path_post,sr=16000)\n",
    "    tmp_clean = np.expand_dims(tmp_clean,axis=1)\n",
    "    print(np.shape(clean))\n",
    "    print(np.shape(tmp_clean))\n",
    "    clean = np.concatenate([clean,tmp_clean],axis=1)\n"
   ]
  },
  {
   "cell_type": "code",
   "execution_count": 48,
   "id": "about-label",
   "metadata": {},
   "outputs": [
    {
     "data": {
      "text/plain": [
       "66430"
      ]
     },
     "execution_count": 48,
     "metadata": {},
     "output_type": "execute_result"
    }
   ],
   "source": [
    "len(clean)"
   ]
  },
  {
   "cell_type": "code",
   "execution_count": 51,
   "id": "minimal-probability",
   "metadata": {},
   "outputs": [
    {
     "data": {
      "text/plain": [
       "(2, 6)"
      ]
     },
     "execution_count": 51,
     "metadata": {},
     "output_type": "execute_result"
    }
   ],
   "source": [
    "np.shape(clean[4:6])"
   ]
  },
  {
   "cell_type": "markdown",
   "id": "c4dd358a-a327-4acf-984b-997aabb59f10",
   "metadata": {},
   "source": [
    "# torch.concat"
   ]
  },
  {
   "cell_type": "code",
   "execution_count": 2,
   "id": "1ef1587e-ec7c-4a73-814c-ac05d9afef99",
   "metadata": {},
   "outputs": [],
   "source": [
    "import torch"
   ]
  },
  {
   "cell_type": "code",
   "execution_count": 4,
   "id": "880e8612-e4c5-4692-869e-1581f18291d0",
   "metadata": {},
   "outputs": [
    {
     "name": "stdout",
     "output_type": "stream",
     "text": [
      "tensor([[0.1311, 0.4378],\n",
      "        [0.6601, 0.7852],\n",
      "        [0.4148, 0.8399]])\n",
      "tensor([[0.1247],\n",
      "        [0.3867],\n",
      "        [0.8876]])\n"
     ]
    }
   ],
   "source": [
    "x = torch.rand(3,2)\n",
    "y = torch.rand(3,1)\n",
    "print(x)\n",
    "print(y)"
   ]
  },
  {
   "cell_type": "code",
   "execution_count": 7,
   "id": "a61bb672-f8ca-4a28-ba39-5b973b08879f",
   "metadata": {},
   "outputs": [
    {
     "name": "stdout",
     "output_type": "stream",
     "text": [
      "tensor([[0.1311, 0.4378, 0.1247],\n",
      "        [0.6601, 0.7852, 0.3867],\n",
      "        [0.4148, 0.8399, 0.8876]])\n",
      "torch.Size([3, 3])\n"
     ]
    }
   ],
   "source": [
    "z = torch.cat((x,y),1)\n",
    "print(z)\n",
    "print(z.shape)"
   ]
  },
  {
   "cell_type": "code",
   "execution_count": 12,
   "id": "3fe3b77c-d561-46d3-8729-048a3fbffabb",
   "metadata": {},
   "outputs": [],
   "source": [
    "nl = torch.nn.Sigmoid()"
   ]
  },
  {
   "cell_type": "code",
   "execution_count": 13,
   "id": "905d7f4f-cfde-4195-9adf-ee608ca78131",
   "metadata": {},
   "outputs": [
    {
     "data": {
      "text/plain": [
       "tensor([[0.5327, 0.6077, 0.5311],\n",
       "        [0.6593, 0.6868, 0.5955],\n",
       "        [0.6022, 0.6984, 0.7084]])"
      ]
     },
     "execution_count": 13,
     "metadata": {},
     "output_type": "execute_result"
    }
   ],
   "source": [
    "nl(z)"
   ]
  },
  {
   "cell_type": "code",
   "execution_count": null,
   "id": "a14ff723-fca7-42af-83c5-5f93c8296161",
   "metadata": {},
   "outputs": [],
   "source": []
  }
 ],
 "metadata": {
  "kernelspec": {
   "display_name": "Python 3",
   "language": "python",
   "name": "python3"
  },
  "language_info": {
   "codemirror_mode": {
    "name": "ipython",
    "version": 3
   },
   "file_extension": ".py",
   "mimetype": "text/x-python",
   "name": "python",
   "nbconvert_exporter": "python",
   "pygments_lexer": "ipython3",
   "version": "3.8.0"
  }
 },
 "nbformat": 4,
 "nbformat_minor": 5
}
