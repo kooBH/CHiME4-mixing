{
 "cells": [
  {
   "cell_type": "code",
   "execution_count": 51,
   "id": "5ccecbcf-a019-4986-9529-e6f7aa57c475",
   "metadata": {},
   "outputs": [],
   "source": [
    "import os, glob\n",
    "import scipy.io as sio\n",
    "import numpy as np"
   ]
  },
  {
   "cell_type": "code",
   "execution_count": 36,
   "id": "58361d6a-13ec-439a-ab83-19015f672e3e",
   "metadata": {},
   "outputs": [],
   "source": [
    "#noisy_root = '/home/data/kbh/CHiME4/isolated_1ch_track/'\n",
    "#estim_root = '/home/data/kbh/CGMM_RLS_MPDR/trial_04/'\n",
    "#mask_root = '/home/data/kbh/CGMM_RLS_MPDR/trial_04_mask/'\n",
    "\n",
    "noisy_root = '/home/kiosk/dnn2/CHiME4/isolated_1ch_track/'\n",
    "estim_root = '/home/kiosk/dnn2/CGMM_RLS_MPDR/trial_04/'\n",
    "mask_root =  '/home/kiosk/dnn2/CGMM_RLS_MPDR/trial_04_mask/'"
   ]
  },
  {
   "cell_type": "code",
   "execution_count": 37,
   "id": "13715e05-8e15-4097-8a35-39432b75bed0",
   "metadata": {},
   "outputs": [],
   "source": [
    "dirs_1 = ['dt','et']\n",
    "dirs_2 = ['bus','caf','str','ped']\n",
    "dirs_3 = ['real','simu']\n",
    "dirs =[]\n",
    "for i in dirs_1 :\n",
    "    for j in dirs_2 :\n",
    "        for k in dirs_3 :\n",
    "            dirs.append(i+'05_'+j+'_'+k)"
   ]
  },
  {
   "cell_type": "code",
   "execution_count": 39,
   "id": "5a6b2882-5077-499e-a667-afafd2bf77c9",
   "metadata": {},
   "outputs": [
    {
     "name": "stdout",
     "output_type": "stream",
     "text": [
      "5920\n",
      "5920\n",
      "5920\n"
     ]
    }
   ],
   "source": [
    "noisy_list = [x for x in glob.glob(os.path.join(noisy_root,'*','*.wav'))]\n",
    "estim_list = []\n",
    "mask_list  = []\n",
    "for i in dirs : \n",
    "    estim_list += [x for x in glob.glob(os.path.join(estim_root,i,'*.wav'))]\n",
    "    mask_list  += [x for x in glob.glob(os.path.join(mask_root,i,'*.mat'))]\n",
    "print(len(noisy_list))\n",
    "print(len(estim_list))\n",
    "print(len(mask_list))"
   ]
  },
  {
   "cell_type": "code",
   "execution_count": 40,
   "id": "b0e561c0-0629-4656-a00c-2d08497779d9",
   "metadata": {},
   "outputs": [],
   "source": [
    "mat_contents = sio.loadmat(mask_list[0])"
   ]
  },
  {
   "cell_type": "code",
   "execution_count": 52,
   "id": "05d47a62-6a11-4fd4-88db-313a4306f0d2",
   "metadata": {},
   "outputs": [
    {
     "name": "stdout",
     "output_type": "stream",
     "text": [
      "<class 'dict'>\n",
      "{'__header__': b'MATLAB 5.0 MAT-file, Platform: GLNXA64, Created on: Sat Dec  5 14:28:39 2020', '__version__': '1.0', '__globals__': [], 'noise_mask': array([[1.00000000e+00, 1.00000000e+00, 1.00000000e+00, ...,\n",
      "        3.23045512e-01, 3.84709036e-05, 4.69712414e-03],\n",
      "       [1.00000000e+00, 1.00000000e+00, 1.00000000e+00, ...,\n",
      "        7.12779994e-03, 7.08078041e-12, 2.88657986e-15],\n",
      "       [1.00000000e+00, 1.00000000e+00, 1.00000000e+00, ...,\n",
      "        2.22044605e-16, 6.66133815e-16, 0.00000000e+00],\n",
      "       ...,\n",
      "       [1.00000000e+00, 1.00000000e+00, 1.00000000e+00, ...,\n",
      "        1.58588815e-01, 2.80801547e-01, 1.12558290e-01],\n",
      "       [1.00000000e+00, 1.00000000e+00, 1.00000000e+00, ...,\n",
      "        8.65711918e-01, 7.36254569e-01, 3.96382394e-01],\n",
      "       [1.00000000e+00, 1.00000000e+00, 1.00000000e+00, ...,\n",
      "        9.11370669e-01, 9.11472791e-01, 5.67807477e-01]])}\n",
      "<class 'numpy.ndarray'>\n",
      "(513, 435)\n"
     ]
    }
   ],
   "source": [
    "print(type(mat_contents))\n",
    "print(mat_contents)\n",
    "print(type(mat_contents['noise_mask']))\n",
    "print(np.shape(mat_contents['noise_mask']))"
   ]
  },
  {
   "cell_type": "code",
   "execution_count": 48,
   "id": "1d3470b4-689d-4904-8e37-c27186884671",
   "metadata": {},
   "outputs": [
    {
     "data": {
      "text/plain": [
       "array([[1.00000000e+00, 1.00000000e+00, 1.00000000e+00, ...,\n",
       "        3.23045512e-01, 3.84709036e-05, 4.69712414e-03],\n",
       "       [1.00000000e+00, 1.00000000e+00, 1.00000000e+00, ...,\n",
       "        7.12779994e-03, 7.08078041e-12, 2.88657986e-15],\n",
       "       [1.00000000e+00, 1.00000000e+00, 1.00000000e+00, ...,\n",
       "        2.22044605e-16, 6.66133815e-16, 0.00000000e+00],\n",
       "       ...,\n",
       "       [1.00000000e+00, 1.00000000e+00, 1.00000000e+00, ...,\n",
       "        1.58588815e-01, 2.80801547e-01, 1.12558290e-01],\n",
       "       [1.00000000e+00, 1.00000000e+00, 1.00000000e+00, ...,\n",
       "        8.65711918e-01, 7.36254569e-01, 3.96382394e-01],\n",
       "       [1.00000000e+00, 1.00000000e+00, 1.00000000e+00, ...,\n",
       "        9.11370669e-01, 9.11472791e-01, 5.67807477e-01]])"
      ]
     },
     "execution_count": 48,
     "metadata": {},
     "output_type": "execute_result"
    }
   ],
   "source": [
    "type(mat_contents['noise_mask'])"
   ]
  },
  {
   "cell_type": "markdown",
   "id": "8cb4f610-e44d-4bad-abd5-1ff1f9f6a515",
   "metadata": {},
   "source": [
    "## NOTE\n",
    "Noise Masking을 하기 위해선 noisy wav를 stft 로 바꾸고 masking하고 다시 wav로 바꿔야한다. 싱크를 잘 맞춰야한다. "
   ]
  },
  {
   "cell_type": "code",
   "execution_count": 53,
   "id": "07846d0d-a46b-4344-ae2c-36fe45174d1a",
   "metadata": {},
   "outputs": [],
   "source": [
    "import librosa"
   ]
  },
  {
   "cell_type": "code",
   "execution_count": 55,
   "id": "d0cfa777-8f7d-4640-bba3-213c39797aa5",
   "metadata": {},
   "outputs": [
    {
     "name": "stdout",
     "output_type": "stream",
     "text": [
      "/home/kiosk/dnn2/CHiME4/isolated_1ch_track/dt05_ped_simu/F01_050C0103_PED.wav\n",
      "/home/kiosk/dnn2/CGMM_RLS_MPDR/trial_04/dt05_bus_real/M04_423C020Y_BUS.wav\n",
      "/home/kiosk/dnn2/CGMM_RLS_MPDR/trial_04_mask/dt05_bus_real/M03_050C0102_BUS.mat\n"
     ]
    }
   ],
   "source": [
    "print(noisy_list[0])\n",
    "print(estim_list[0])\n",
    "print(mask_list[0])\n",
    "\n",
    "sample_noisy_path = noisy_root + '/dt05_ped_simu/F01_050C0103_PED.wav'\n",
    "sample_estim_path = estim_root + '/dt05_ped_simu/F01_050C0103_PED.wav'\n",
    "sample_mask_path = mask_root + '/dt05_ped_simu/F01_050C0103_PED.mat'"
   ]
  },
  {
   "cell_type": "code",
   "execution_count": 60,
   "id": "04b73c42-2008-414d-b10d-802139b77ac5",
   "metadata": {},
   "outputs": [
    {
     "name": "stdout",
     "output_type": "stream",
     "text": [
      "(99810,)\n",
      "(99810,)\n",
      "(513, 386)\n"
     ]
    }
   ],
   "source": [
    "sample_noisy,_ = librosa.load(sample_noisy_path,sr=16000)\n",
    "sample_estim,_ = librosa.load(sample_estim_path,sr=16000)\n",
    "sample_mask = sio.loadmat(sample_mask_path)['noise_mask']\n",
    "print(np.shape(sample_noisy))\n",
    "print(np.shape(sample_estim))\n",
    "print(np.shape(sample_mask))"
   ]
  },
  {
   "cell_type": "markdown",
   "id": "8579d5a7-3bab-4d91-9e7b-1eaf89e14e41",
   "metadata": {},
   "source": [
    "## NOTE\n",
    "왜 길이가 같지? STFT overlap 딜레이 고려 안한건가?  \n",
    "해당 부분에 대해서는 처리된것 같다?"
   ]
  },
  {
   "cell_type": "code",
   "execution_count": 61,
   "id": "68617ec4-0388-4b6a-820f-9c3bb577c2fa",
   "metadata": {},
   "outputs": [
    {
     "name": "stdout",
     "output_type": "stream",
     "text": [
      "(513, 386)\n",
      "(513, 386)\n"
     ]
    }
   ],
   "source": [
    "sample_noisy_spec = librosa.stft(sample_noisy,window='hann',n_fft=1024,center=False)\n",
    "sample_estim_spec = librosa.stft(sample_estim,window='hann',n_fft=1024,center=False)\n",
    "print(np.shape(sample_noisy_spec))\n",
    "print(np.shape(sample_estim_spec))"
   ]
  },
  {
   "cell_type": "code",
   "execution_count": 65,
   "id": "041d1034-b1e6-4d7a-908c-6ff08ff0b0af",
   "metadata": {},
   "outputs": [
    {
     "name": "stdout",
     "output_type": "stream",
     "text": [
      "(513, 386)\n"
     ]
    }
   ],
   "source": [
    "x = sample_estim_spec * sample_mask\n",
    "print(np.shape(x))"
   ]
  },
  {
   "cell_type": "markdown",
   "id": "4d09a4ff-3947-4ab7-bcc4-f4834c036c0f",
   "metadata": {},
   "source": [
    "ㄱ"
   ]
  },
  {
   "cell_type": "code",
   "execution_count": null,
   "id": "c0c51b96-3d4a-4557-a206-908167ad4119",
   "metadata": {},
   "outputs": [],
   "source": []
  }
 ],
 "metadata": {
  "kernelspec": {
   "display_name": "Python 3",
   "language": "python",
   "name": "python3"
  },
  "language_info": {
   "codemirror_mode": {
    "name": "ipython",
    "version": 3
   },
   "file_extension": ".py",
   "mimetype": "text/x-python",
   "name": "python",
   "nbconvert_exporter": "python",
   "pygments_lexer": "ipython3",
   "version": "3.8.0"
  }
 },
 "nbformat": 4,
 "nbformat_minor": 5
}
