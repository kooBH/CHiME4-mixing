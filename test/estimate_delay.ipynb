{
 "cells": [
  {
   "cell_type": "code",
   "execution_count": 10,
   "id": "af90cf4e-1dec-4385-a5c3-ffd32edfa7d5",
   "metadata": {},
   "outputs": [],
   "source": [
    "import numpy as np\n",
    "from numpy.fft import fft, ifft, fft2, ifft2, fftshift\n",
    "import librosa\n",
    "\n",
    "def cross_correlation_using_fft(x, y):\n",
    "    f1 = fft(x)\n",
    "    f2 = fft(np.flipud(y))\n",
    "    cc = np.real(ifft(f1 * f2))\n",
    "    return fftshift(cc)\n",
    "\n",
    "# shift < 0 means that y starts 'shift' time steps before x # shift > 0 means that y starts 'shift' time steps after x\n",
    "def compute_shift(x, y):\n",
    "    assert len(x) == len(y)\n",
    "    c = cross_correlation_using_fft(x, y)\n",
    "    assert len(c) == len(x)\n",
    "    zero_index = int(len(x) / 2) - 1\n",
    "    shift = zero_index - np.argmax(c)\n",
    "    return shift"
   ]
  },
  {
   "cell_type": "code",
   "execution_count": 15,
   "id": "162b2451-12b0-4e99-b950-1049b2e91b4a",
   "metadata": {},
   "outputs": [],
   "source": [
    "x,_ = librosa.load('y_1.wav',sr=16000)\n",
    "n,_ = librosa.load('y_n.wav',sr=16000)\n",
    "y,_ = librosa.load('input.wav',sr=16000)"
   ]
  },
  {
   "cell_type": "code",
   "execution_count": 24,
   "id": "0b7ff66d-9aff-4a69-9e52-7328687d4484",
   "metadata": {},
   "outputs": [
    {
     "data": {
      "text/plain": [
       "-109"
      ]
     },
     "execution_count": 24,
     "metadata": {},
     "output_type": "execute_result"
    }
   ],
   "source": [
    "compute_shift(x/np.max(np.abs(x)),y/np.max(np.abs(y)))"
   ]
  },
  {
   "cell_type": "code",
   "execution_count": 25,
   "id": "ef6501a1-526d-4958-8e32-57faa43a8032",
   "metadata": {},
   "outputs": [
    {
     "data": {
      "text/plain": [
       "-76"
      ]
     },
     "execution_count": 25,
     "metadata": {},
     "output_type": "execute_result"
    }
   ],
   "source": [
    "compute_shift(n/np.max(np.abs(n)),y/np.max(np.abs(y)))"
   ]
  },
  {
   "cell_type": "markdown",
   "id": "4815d429-44b2-41d7-9c7a-f2f0841ff811",
   "metadata": {},
   "source": [
    "..."
   ]
  }
 ],
 "metadata": {
  "kernelspec": {
   "display_name": "Python 3",
   "language": "python",
   "name": "python3"
  },
  "language_info": {
   "codemirror_mode": {
    "name": "ipython",
    "version": 3
   },
   "file_extension": ".py",
   "mimetype": "text/x-python",
   "name": "python",
   "nbconvert_exporter": "python",
   "pygments_lexer": "ipython3",
   "version": "3.8.0"
  }
 },
 "nbformat": 4,
 "nbformat_minor": 5
}
